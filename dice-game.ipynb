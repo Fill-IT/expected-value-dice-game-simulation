{
 "cells": [
  {
   "cell_type": "markdown",
   "metadata": {},
   "source": [
    "# Variables & Imports Setup"
   ]
  },
  {
   "cell_type": "code",
   "execution_count": 1,
   "metadata": {},
   "outputs": [],
   "source": [
    "import random"
   ]
  },
  {
   "cell_type": "code",
   "execution_count": 2,
   "metadata": {},
   "outputs": [],
   "source": [
    "ROUND = 100\n",
    "PLAYER = 100\n",
    "REWARD_MULTIPLIER = 4\n",
    "DICE_FACE = 6\n",
    "BET_VALUE = 1"
   ]
  },
  {
   "cell_type": "markdown",
   "metadata": {},
   "source": [
    "# Functions"
   ]
  },
  {
   "cell_type": "code",
   "execution_count": 3,
   "metadata": {},
   "outputs": [],
   "source": [
    "def random_dice_face():\n",
    "    return random.randrange(0,DICE_FACE)\n",
    "\n",
    "def is_matching(face_1, face_2):\n",
    "    if face_1 == face_2: \n",
    "        return True\n",
    "    return False\n",
    "\n",
    "def reward_payment(bet_value, result):\n",
    "    if result == False: \n",
    "        return bet_value * -1\n",
    "    return bet_value * REWARD_MULTIPLIER\n",
    "\n",
    "def play(bet_value):\n",
    "    player_dice_choice = random_dice_face()\n",
    "    roll_dice_result = random_dice_face()\n",
    "    result = is_matching(player_dice_choice, roll_dice_result)\n",
    "    return reward_payment(bet_value, result)\n",
    "\n",
    "def isWinning(reward):\n",
    "    if reward <= 0:\n",
    "        return False\n",
    "    return True\n",
    "\n",
    "def simulate_game():\n",
    "    player_winning = 0\n",
    "    total_house_gain = 0\n",
    "    for i in range(PLAYER):\n",
    "        reward = 0\n",
    "        for j in range(ROUND):\n",
    "            reward = play(BET_VALUE)\n",
    "            total_house_gain = total_house_gain + reward\n",
    "\n",
    "        if isWinning(reward):\n",
    "            player_winning = player_winning + 1\n",
    "    \n",
    "    return (player_winning, total_house_gain * -1)\n"
   ]
  },
  {
   "cell_type": "markdown",
   "metadata": {},
   "source": [
    "# Main Logic"
   ]
  },
  {
   "cell_type": "code",
   "execution_count": 6,
   "metadata": {},
   "outputs": [
    {
     "name": "stdout",
     "output_type": "stream",
     "text": [
      "จาก 100 คนที่เล่น มีคนกำไรแค่ 16 คน\n",
      "และเว็บพนันนี้ได้กำไรไปทั้งหมด 1510 บาท\n"
     ]
    }
   ],
   "source": [
    "(winning_player_amount, total_house_gain) = simulate_game()\n",
    "print(\"จาก {} คนที่เล่น มีคนกำไรแค่ {} คน\".format(PLAYER, winning_player_amount))\n",
    "print(\"และเว็บพนันนี้ได้กำไรไปทั้งหมด {} บาท\".format(total_house_gain))"
   ]
  }
 ],
 "metadata": {
  "kernelspec": {
   "display_name": "Python 3",
   "language": "python",
   "name": "python3"
  },
  "language_info": {
   "codemirror_mode": {
    "name": "ipython",
    "version": 3
   },
   "file_extension": ".py",
   "mimetype": "text/x-python",
   "name": "python",
   "nbconvert_exporter": "python",
   "pygments_lexer": "ipython3",
   "version": "3.12.3"
  }
 },
 "nbformat": 4,
 "nbformat_minor": 2
}
