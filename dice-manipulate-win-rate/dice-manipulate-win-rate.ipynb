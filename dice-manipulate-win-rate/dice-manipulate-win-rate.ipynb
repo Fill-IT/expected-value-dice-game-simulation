{
 "cells": [
  {
   "cell_type": "markdown",
   "metadata": {},
   "source": [
    "# Variables & Imports Setup"
   ]
  },
  {
   "cell_type": "code",
   "execution_count": 1,
   "metadata": {},
   "outputs": [],
   "source": [
    "import random"
   ]
  },
  {
   "cell_type": "code",
   "execution_count": 41,
   "metadata": {},
   "outputs": [],
   "source": [
    "ROUND = 100\n",
    "PLAYER = 17030\n",
    "REWARD_MULTIPLIER = 4\n",
    "DICE_FACE = 6\n",
    "BET_VALUE = 1\n",
    "BASE_WINNING_CHANCE = 50"
   ]
  },
  {
   "cell_type": "markdown",
   "metadata": {},
   "source": [
    "# Functions"
   ]
  },
  {
   "cell_type": "code",
   "execution_count": 15,
   "metadata": {},
   "outputs": [],
   "source": [
    "def random_dice_face():\n",
    "    return random.randrange(0,DICE_FACE)\n",
    "\n",
    "def is_matching(face_1, face_2):\n",
    "    if face_1 == face_2: \n",
    "        return True\n",
    "    return False\n",
    "\n",
    "def reward_payment(bet_value, result):\n",
    "    if result == False: \n",
    "        return bet_value * -1\n",
    "    return bet_value * REWARD_MULTIPLIER\n",
    "\n",
    "def play(bet_value):\n",
    "    player_dice_choice = random_dice_face()\n",
    "    roll_dice_result = random_dice_face()\n",
    "    result = is_matching(player_dice_choice, roll_dice_result)\n",
    "    return reward_payment(bet_value, result)\n",
    "\n",
    "def isWinning(reward):\n",
    "    if reward <= 0:\n",
    "        return False\n",
    "    return True\n",
    "\n",
    "def simulate_game():\n",
    "    player_winning = 0\n",
    "    total_house_gain = 0\n",
    "    for i in range(PLAYER):\n",
    "        reward = 0\n",
    "        for j in range(ROUND):\n",
    "            reward = play(BET_VALUE)\n",
    "            total_house_gain = total_house_gain + reward\n",
    "\n",
    "        if isWinning(reward):\n",
    "            player_winning = player_winning + 1\n",
    "    \n",
    "    return (player_winning, total_house_gain * -1)\n",
    "\n",
    "def is_appropriate_answer(inputChoice):\n",
    "    if (inputChoice < 0 or inputChoice >= 7):\n",
    "        return False\n",
    "    return True\n"
   ]
  },
  {
   "cell_type": "code",
   "execution_count": 199,
   "metadata": {},
   "outputs": [],
   "source": [
    "# Change stats after first round\n",
    "def manually_play_game():\n",
    "    round = 0\n",
    "    win = 0\n",
    "    while True:\n",
    "        choice = input('เลือกเลขลูกเต๋า')\n",
    "        choiceInt = int(choice)\n",
    "        if (choiceInt == 6): break\n",
    "\n",
    "        if (is_appropriate_answer(choiceInt)):\n",
    "            if (round == 0):\n",
    "                round = round + 1\n",
    "                print(\"คุณชนะ!\")\n",
    "                win = win + 1\n",
    "                continue\n",
    "            roll_dice_result = random_dice_face()\n",
    "            result = is_matching(choiceInt, roll_dice_result)\n",
    "            if (result is True):\n",
    "                win = win + 1\n",
    "                print(\"คุณชนะ!\")\n",
    "            else:\n",
    "                print(\"คุณแพ้\")\n",
    "        else:\n",
    "            print(\"กรุณาใส่เลข 1 - 5 เท่านั้น\")\n",
    "\n",
    "def play_manipulate_chance_game():\n",
    "    win = 0\n",
    "    currentWinningChance = BASE_WINNING_CHANCE\n",
    "    currenntBalance = 0\n",
    "    betValue = 1\n",
    "    for round in range(ROUND):\n",
    "        if(round == 0):\n",
    "            win = win + 1\n",
    "            currenntBalance = currenntBalance + reward_payment(betValue, True)\n",
    "            continue\n",
    " \n",
    "        randomNumberChoice = random.randint(0,100)\n",
    "        if(randomNumberChoice < currentWinningChance):\n",
    "            win = win + 1\n",
    "            currenntBalance = currenntBalance + reward_payment(betValue, True)\n",
    "            if (currentWinningChance - 10 < 0): \n",
    "                currentWinningChance = 0\n",
    "            else:\n",
    "                currentWinningChance = currentWinningChance - 10\n",
    "        else:\n",
    "            currentWinningChance = currentWinningChance + 1\n",
    "            currenntBalance = currenntBalance + reward_payment(betValue, False)\n",
    "    return currenntBalance\n",
    "\n",
    "def simulate_play_manipulate_chance_game():\n",
    "    playerTotalBalance = []\n",
    "    totalHouseGain = 0\n",
    "    profitPlayer = 0\n",
    "    for player in range(PLAYER):\n",
    "        result = play_manipulate_chance_game()\n",
    "        playerTotalBalance.append(result)\n",
    "        totalHouseGain = totalHouseGain + result\n",
    "    for balance in playerTotalBalance:\n",
    "        if(balance > 0):\n",
    "            profitPlayer = profitPlayer + 1\n",
    "    totalHouseGain = -1 * totalHouseGain\n",
    "\n",
    "    print(\"มีคนกำไรทั้งหมด {} คน\".format(profitPlayer))\n",
    "    print(\"บ่อนได้เงินเข้ากระเป๋า {} บาท\".format(totalHouseGain))\n",
    "    \n"
   ]
  },
  {
   "cell_type": "markdown",
   "metadata": {},
   "source": [
    "# Main Logic"
   ]
  },
  {
   "cell_type": "code",
   "execution_count": 5,
   "metadata": {},
   "outputs": [
    {
     "name": "stdout",
     "output_type": "stream",
     "text": [
      "จาก 100 คนที่เล่น มีคนกำไรแค่ 17 คน\n",
      "และเว็บพนันนี้ได้กำไรไปทั้งหมด 1465 บาท\n"
     ]
    }
   ],
   "source": [
    "(winning_player_amount, total_house_gain) = simulate_game()\n",
    "print(\"จาก {} คนที่เล่น มีคนกำไรแค่ {} คน\".format(PLAYER, winning_player_amount))\n",
    "print(\"และเว็บพนันนี้ได้กำไรไปทั้งหมด {} บาท\".format(total_house_gain))"
   ]
  },
  {
   "cell_type": "code",
   "execution_count": 220,
   "metadata": {},
   "outputs": [
    {
     "name": "stdout",
     "output_type": "stream",
     "text": [
      "มีคนกำไรทั้งหมด 0 คน\n",
      "บ่อนได้เงินเข้ากระเป๋า 2840 บาท\n"
     ]
    }
   ],
   "source": [
    "# manually_play_game()\n",
    "# currenntBalance = play_manipulate_chance_game()\n",
    "# print(\"ผู้เล่นได้เงิน {} บาท\".format(currenntBalance))\n",
    "simulate_play_manipulate_chance_game()"
   ]
  }
 ],
 "metadata": {
  "kernelspec": {
   "display_name": "Python 3",
   "language": "python",
   "name": "python3"
  },
  "language_info": {
   "codemirror_mode": {
    "name": "ipython",
    "version": 3
   },
   "file_extension": ".py",
   "mimetype": "text/x-python",
   "name": "python",
   "nbconvert_exporter": "python",
   "pygments_lexer": "ipython3",
   "version": "3.12.3"
  }
 },
 "nbformat": 4,
 "nbformat_minor": 2
}
